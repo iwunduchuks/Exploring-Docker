{
 "cells": [
  {
   "cell_type": "code",
   "execution_count": null,
   "metadata": {},
   "outputs": [],
   "source": []
  },
  {
   "cell_type": "markdown",
   "metadata": {},
   "source": [
    "## EXTRACT - TRANSFORM - LOAD "
   ]
  },
  {
   "cell_type": "code",
   "execution_count": 92,
   "metadata": {},
   "outputs": [],
   "source": [
    "#import Libraries \n",
    "import requests\n",
    "import pandas as pd \n",
    "from datetime import datetime "
   ]
  },
  {
   "cell_type": "code",
   "execution_count": 94,
   "metadata": {},
   "outputs": [
    {
     "name": "stdout",
     "output_type": "stream",
     "text": [
      "  asset_id_base asset_id_quote          rate        Date  Hour  Minute\n",
      "0           BTC            USD  60275.729681  2024-09-17    22      37\n"
     ]
    }
   ],
   "source": [
    "# EXTRACT\n",
    "\n",
    "# API endpoint for fetching all current rates\n",
    "url = \"https://rest.coinapi.io/v1/exchangerate/BTC/USD\"\n",
    "\n",
    "# Your API key\n",
    "headers = {\n",
    "    'X-CoinAPI-Key': '0A4EC419-E056-44E2-B22B-CEDDB3C09AC0'\n",
    "}\n",
    "\n",
    "# Send the request to get the current Bitcoin price in USD\n",
    "response = requests.get(url, headers=headers)\n",
    "\n",
    "\n",
    "# TRANSFORM \n",
    "# Check if the request was successful\n",
    "if response.status_code == 200:\n",
    "    data = response.json()\n",
    "\n",
    "    dt = datetime.strptime(data['time'], \"%Y-%m-%dT%H:%M:%S.%f0Z\")\n",
    "\n",
    "    # Convert JSON data to a pandas DataFrame\n",
    "    df = pd.DataFrame([{\n",
    "        'asset_id_base':  data['asset_id_base'],\n",
    "        'asset_id_quote': data['asset_id_quote'],\n",
    "        'rate':   data['rate'],\n",
    "        'Date':   dt.date(),\n",
    "        'Hour':   dt.hour,\n",
    "        'Minute': dt.minute,\n",
    "    }])\n",
    "\n",
    "    print(df)\n",
    "\n",
    "else:\n",
    "    print(f\"Error: Unable to fetch data. Status code: {response.status_code}\")\n",
    "\n"
   ]
  },
  {
   "cell_type": "code",
   "execution_count": null,
   "metadata": {},
   "outputs": [],
   "source": [
    "# LOAD\n",
    "# Load using SQLlite"
   ]
  }
 ],
 "metadata": {
  "kernelspec": {
   "display_name": "Python 3",
   "language": "python",
   "name": "python3"
  },
  "language_info": {
   "codemirror_mode": {
    "name": "ipython",
    "version": 3
   },
   "file_extension": ".py",
   "mimetype": "text/x-python",
   "name": "python",
   "nbconvert_exporter": "python",
   "pygments_lexer": "ipython3",
   "version": "3.12.4"
  }
 },
 "nbformat": 4,
 "nbformat_minor": 2
}
