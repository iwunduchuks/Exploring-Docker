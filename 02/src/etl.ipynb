{
 "cells": [
  {
   "cell_type": "code",
   "execution_count": null,
   "metadata": {},
   "outputs": [],
   "source": []
  },
  {
   "cell_type": "markdown",
   "metadata": {},
   "source": [
    "## EXTRACT - TRANSFORM - LOAD "
   ]
  },
  {
   "cell_type": "code",
   "execution_count": 2,
   "metadata": {},
   "outputs": [],
   "source": [
    "#import Libraries \n",
    "import requests\n",
    "import pandas as pd \n",
    "from   datetime import datetime \n",
    "import sqlite3"
   ]
  },
  {
   "cell_type": "code",
   "execution_count": 12,
   "metadata": {},
   "outputs": [
    {
     "name": "stdout",
     "output_type": "stream",
     "text": [
      "<class 'str'>\n",
      "{'Date': '2024-09-24', 'Price': 63034.93862111122, 'Hour': 14, 'Minute': 48}\n"
     ]
    }
   ],
   "source": [
    "# EXTRACT\n",
    "\n",
    "# API endpoint for fetching all current rates\n",
    "url = \"https://rest.coinapi.io/v1/exchangerate/BTC/USD\"\n",
    "\n",
    "# Your API key\n",
    "headers = {\n",
    "    'X-CoinAPI-Key': '0A4EC419-E056-44E2-B22B-CEDDB3C09AC0'\n",
    "}\n",
    "\n",
    "# Send the request to get the current Bitcoin price in USD\n",
    "response = requests.get(url, headers=headers)\n",
    "\n",
    "# TRANSFORM a\n",
    "# Check if the request was successful\n",
    "if response.status_code == 200:\n",
    "    \n",
    "    # TRANSFROM\n",
    "    data = response.json()\n",
    "    dt = datetime.strptime(data['time'], \"%Y-%m-%dT%H:%M:%S.%f0Z\")\n",
    "\n",
    "    # Load\n",
    "    date = dt.date().__str__()\n",
    "    print(type(date))\n",
    "    dict = {\n",
    "    'Date': date,\n",
    "    'Price': data['rate'],\n",
    "    'Hour': dt.hour,\n",
    "    'Minute': dt.minute\n",
    "    }\n",
    "    \n",
    "    print(dict)\n",
    "    # Convert JSON data to a pandas DataFrame\n",
    "    df = pd.DataFrame([{\n",
    "        'asset_id_base':  data['asset_id_base'],\n",
    "        'asset_id_quote': data['asset_id_quote'],\n",
    "        'rate':   data['rate'],\n",
    "        'Date':   dt.date(),\n",
    "        'Hour':   dt.hour,\n",
    "        'Minute': dt.minute\n",
    "        }])\n",
    "    \n",
    "else:\n",
    "    print(f\"Error: Unable to fetch data. Status code: {response.status_code}\")\n",
    "\n"
   ]
  },
  {
   "cell_type": "code",
   "execution_count": 7,
   "metadata": {},
   "outputs": [
    {
     "data": {
      "text/html": [
       "<div>\n",
       "<style scoped>\n",
       "    .dataframe tbody tr th:only-of-type {\n",
       "        vertical-align: middle;\n",
       "    }\n",
       "\n",
       "    .dataframe tbody tr th {\n",
       "        vertical-align: top;\n",
       "    }\n",
       "\n",
       "    .dataframe thead th {\n",
       "        text-align: right;\n",
       "    }\n",
       "</style>\n",
       "<table border=\"1\" class=\"dataframe\">\n",
       "  <thead>\n",
       "    <tr style=\"text-align: right;\">\n",
       "      <th></th>\n",
       "      <th>asset_id_base</th>\n",
       "      <th>asset_id_quote</th>\n",
       "      <th>rate</th>\n",
       "      <th>Date</th>\n",
       "      <th>Hour</th>\n",
       "      <th>Minute</th>\n",
       "    </tr>\n",
       "  </thead>\n",
       "  <tbody>\n",
       "    <tr>\n",
       "      <th>0</th>\n",
       "      <td>BTC</td>\n",
       "      <td>USD</td>\n",
       "      <td>63405.934171</td>\n",
       "      <td>2024-09-20</td>\n",
       "      <td>12</td>\n",
       "      <td>38</td>\n",
       "    </tr>\n",
       "  </tbody>\n",
       "</table>\n",
       "</div>"
      ],
      "text/plain": [
       "  asset_id_base asset_id_quote          rate        Date  Hour  Minute\n",
       "0           BTC            USD  63405.934171  2024-09-20    12      38"
      ]
     },
     "execution_count": 7,
     "metadata": {},
     "output_type": "execute_result"
    }
   ],
   "source": [
    "df"
   ]
  },
  {
   "cell_type": "markdown",
   "metadata": {},
   "source": [
    "Establish connection\n",
    "\n",
    "find table with pecific name in connection\n",
    "    if no, create table, then append data \n",
    "    if yes , append data "
   ]
  },
  {
   "cell_type": "code",
   "execution_count": 11,
   "metadata": {},
   "outputs": [
    {
     "name": "stdout",
     "output_type": "stream",
     "text": [
      "Data successfully inserted into the database.\n"
     ]
    }
   ],
   "source": [
    "conn = sqlite3.connect(\"pricedata.db\")\n",
    "cur = conn.cursor()\n",
    "\n",
    "cur.execute('''\n",
    "    CREATE TABLE IF NOT EXISTS price_data (\n",
    "        Date    DATE,\n",
    "        Price   FLOAT,\n",
    "        Hour    INTEGER,\n",
    "        Minute  INTEGER\n",
    "    )''')\n",
    "\n",
    "cur.execute('''\n",
    "    INSERT INTO price_data (Date, Price, Hour, Minute) \n",
    "    VALUES (?, ?, ?, ?)\n",
    "''', (dt.date(), data['rate'], dt.hour, dt.minute))\n",
    "\n",
    "conn.commit()\n",
    "conn.close()\n",
    "\n",
    "print(\"Data successfully inserted into the database.\")\n"
   ]
  }
 ],
 "metadata": {
  "kernelspec": {
   "display_name": "Python 3",
   "language": "python",
   "name": "python3"
  },
  "language_info": {
   "codemirror_mode": {
    "name": "ipython",
    "version": 3
   },
   "file_extension": ".py",
   "mimetype": "text/x-python",
   "name": "python",
   "nbconvert_exporter": "python",
   "pygments_lexer": "ipython3",
   "version": "3.11.7"
  }
 },
 "nbformat": 4,
 "nbformat_minor": 2
}
